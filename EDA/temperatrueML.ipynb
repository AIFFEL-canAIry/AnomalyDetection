{
  "nbformat": 4,
  "nbformat_minor": 0,
  "metadata": {
    "colab": {
      "provenance": [],
      "collapsed_sections": [],
      "machine_shape": "hm"
    },
    "kernelspec": {
      "name": "python3",
      "display_name": "Python 3"
    },
    "language_info": {
      "name": "python"
    },
    "accelerator": "GPU",
    "gpuClass": "standard"
  },
  "cells": [
    {
      "cell_type": "code",
      "source": [
        "import tqdm\n",
        "import glob\n",
        "import json\n",
        "import pandas as pd\n",
        "import numpy as np\n",
        "\n",
        "## 'list_label' :  json 파일 경로 리스트\n",
        "path_label = '/content/drive/MyDrive/canAiry/data/02_2nd-dataset/03-2_TR-gearbox/01_label/train'\n",
        "list_label = glob.glob(path_label + '/*.json')\n"
      ],
      "metadata": {
        "id": "T4r9DcQtZ0Q0"
      },
      "execution_count": null,
      "outputs": []
    },
    {
      "cell_type": "code",
      "source": [
        "list_label"
      ],
      "metadata": {
        "id": "M5YQ4u3OFg2s",
        "outputId": "f46ae6c4-a5a2-4e98-93bf-d87badb45094",
        "colab": {
          "base_uri": "https://localhost:8080/"
        }
      },
      "execution_count": null,
      "outputs": [
        {
          "output_type": "execute_result",
          "data": {
            "text/plain": [
              "[]"
            ]
          },
          "metadata": {},
          "execution_count": 3
        }
      ]
    },
    {
      "cell_type": "code",
      "source": [
        "import matplotlib.pyplot as plt\n",
        "import matplotlib.patches as patches\n",
        "from PIL import Image\n",
        "\n",
        "n = []\n",
        "ab = []\n",
        "\n",
        "for path_label in list_label:\n",
        "  with open(path_label) as r:\n",
        "    dict_label = json.load(r)\n",
        "    tmp = path_label.split('/')\n",
        "    tmp[-3] = '00_csv'\n",
        "    tmp2 = tmp[-1].split('.')\n",
        "    tmp2[-1] = 'csv'\n",
        "    tmp[-1] = '.'.join(tmp2)\n",
        "    path_csv ='/'.join(tmp)\n",
        "\n",
        "    try: \n",
        "      df = pd.read_csv(path_csv)\n",
        "      env = []\n",
        "      env.append(float(df.columns[0].split(';')[-1]))\n",
        "      for i in range(4):\n",
        "        env.append(float(df.loc[i][0].split(';')[-1]))\n",
        "      \n",
        "      df_temp = pd.read_csv(path_csv)[4:].reset_index(drop=True)\n",
        "      image = np.zeros((512, 640))\n",
        "      for idx, row in df_temp.iterrows():\n",
        "        image[idx, :] = np.array([float(x) for x in row[0].split(';')[:-1]])\n",
        "\n",
        "      for obj in dict_label[\"annotations\"]:\n",
        "        bbox = list(obj[\"data\"].values())\n",
        "        x = bbox[0]\n",
        "        y = bbox[1]\n",
        "        w = bbox[2]\n",
        "        h = bbox[3]\n",
        "        \n",
        "        tmp = []\n",
        "        for i in range(h):\n",
        "            for j in range(w):\n",
        "              if y+i >= 512 or x+j >= 640:\n",
        "                continue\n",
        "              tmp.append(image[y+i][x+j])\n",
        "        tmp.sort(reverse=True)\n",
        "        if obj[\"attributes\"][\"status\"] == \"danger\":\n",
        "          #\n",
        "          tmp = tmp[0:5]\n",
        "          tmp.extend(env)\n",
        "          ab.append(tmp)\n",
        "        else:\n",
        "          tmp = tmp[0:5]\n",
        "          tmp.extend(env)\n",
        "          n.append(tmp)\n",
        "          \n",
        "    except:\n",
        "      print(path_csv, 'is not here!!')"
      ],
      "metadata": {
        "id": "q8cJabhnPcKP"
      },
      "execution_count": null,
      "outputs": []
    },
    {
      "cell_type": "code",
      "source": [
        "print(len(n))\n",
        "print(len(ab))"
      ],
      "metadata": {
        "colab": {
          "base_uri": "https://localhost:8080/"
        },
        "id": "5qdAKWcs9A3r",
        "outputId": "50b1ed05-bdbe-44bb-9d77-45b64596a8d7"
      },
      "execution_count": null,
      "outputs": [
        {
          "output_type": "stream",
          "name": "stdout",
          "text": [
            "736\n",
            "330\n"
          ]
        }
      ]
    },
    {
      "cell_type": "code",
      "source": [
        "half_n = n[:330]"
      ],
      "metadata": {
        "id": "GG3wDRn69EDx"
      },
      "execution_count": null,
      "outputs": []
    },
    {
      "cell_type": "code",
      "source": [
        "df_normal = pd.DataFrame(half_n,columns=['1','2','3','4','5','Emissivity','ReflectedTemperature','Distance','Atmospherictemperature','RelativeHumidity'])\n",
        "df_abnormal = pd.DataFrame(ab,columns=['1','2','3','4','5','Emissivity','ReflectedTemperature','Distance','Atmospherictemperature','RelativeHumidity'])"
      ],
      "metadata": {
        "id": "n34p4w5W84Q5"
      },
      "execution_count": null,
      "outputs": []
    },
    {
      "cell_type": "code",
      "source": [
        "print(len(df_normal))\n",
        "print(len(df_abnormal))"
      ],
      "metadata": {
        "colab": {
          "base_uri": "https://localhost:8080/"
        },
        "id": "bbR7RGtc80lM",
        "outputId": "9d645089-aacc-4e5a-bb92-92126a2cc843"
      },
      "execution_count": null,
      "outputs": [
        {
          "output_type": "stream",
          "name": "stdout",
          "text": [
            "330\n",
            "330\n"
          ]
        }
      ]
    },
    {
      "cell_type": "code",
      "source": [
        "dataset_train = pd.concat([df_normal, df_abnormal], ignore_index=True)"
      ],
      "metadata": {
        "id": "Ve6zlZhs71YB"
      },
      "execution_count": null,
      "outputs": []
    },
    {
      "cell_type": "code",
      "source": [
        "dataset_train"
      ],
      "metadata": {
        "colab": {
          "base_uri": "https://localhost:8080/",
          "height": 483
        },
        "id": "DDxh-_QqtQ-m",
        "outputId": "9e9447ea-138e-40fa-83cb-f60ddcefcafc"
      },
      "execution_count": null,
      "outputs": [
        {
          "output_type": "execute_result",
          "data": {
            "text/plain": [
              "          1       2       3       4       5  Emissivity  ReflectedTemperature  \\\n",
              "0     37.73   37.38   37.27   37.05   36.80        0.95                 19.00   \n",
              "1     75.49   75.27   75.14   75.14   75.04        0.95                 19.00   \n",
              "2    106.96  105.04  101.46  100.54  100.08        0.95                 19.00   \n",
              "3     60.78   59.89   59.71   59.21   58.97        0.95                 19.00   \n",
              "4     74.66   74.63   74.59   74.55   74.55        0.95                 19.00   \n",
              "..      ...     ...     ...     ...     ...         ...                   ...   \n",
              "655   59.61   58.41   57.14   56.17   54.35        0.95                 12.00   \n",
              "656   64.68   64.62   64.60   64.60   64.57        0.95                 12.00   \n",
              "657   62.09   60.89   60.51   60.20   59.97        0.95                 12.00   \n",
              "658   75.38   75.31   75.14   75.11   75.09        0.95                 12.00   \n",
              "659   54.98   54.86   54.35   53.96   53.20        0.95                 21.85   \n",
              "\n",
              "     Distance  Atmospherictemperature  RelativeHumidity  \n",
              "0         1.0                    19.0              20.0  \n",
              "1         1.0                    19.0              20.0  \n",
              "2         1.0                    19.0              20.0  \n",
              "3         1.0                    19.0              20.0  \n",
              "4         1.0                    19.0              20.0  \n",
              "..        ...                     ...               ...  \n",
              "655       1.0                    12.0              70.0  \n",
              "656       1.0                    12.0              70.0  \n",
              "657       1.0                    12.0              70.0  \n",
              "658       1.0                    12.0              70.0  \n",
              "659       1.0                    12.0              70.0  \n",
              "\n",
              "[660 rows x 10 columns]"
            ],
            "text/html": [
              "\n",
              "  <div id=\"df-2264e01d-ddbe-46aa-9d06-ca8a1d533a13\">\n",
              "    <div class=\"colab-df-container\">\n",
              "      <div>\n",
              "<style scoped>\n",
              "    .dataframe tbody tr th:only-of-type {\n",
              "        vertical-align: middle;\n",
              "    }\n",
              "\n",
              "    .dataframe tbody tr th {\n",
              "        vertical-align: top;\n",
              "    }\n",
              "\n",
              "    .dataframe thead th {\n",
              "        text-align: right;\n",
              "    }\n",
              "</style>\n",
              "<table border=\"1\" class=\"dataframe\">\n",
              "  <thead>\n",
              "    <tr style=\"text-align: right;\">\n",
              "      <th></th>\n",
              "      <th>1</th>\n",
              "      <th>2</th>\n",
              "      <th>3</th>\n",
              "      <th>4</th>\n",
              "      <th>5</th>\n",
              "      <th>Emissivity</th>\n",
              "      <th>ReflectedTemperature</th>\n",
              "      <th>Distance</th>\n",
              "      <th>Atmospherictemperature</th>\n",
              "      <th>RelativeHumidity</th>\n",
              "    </tr>\n",
              "  </thead>\n",
              "  <tbody>\n",
              "    <tr>\n",
              "      <th>0</th>\n",
              "      <td>37.73</td>\n",
              "      <td>37.38</td>\n",
              "      <td>37.27</td>\n",
              "      <td>37.05</td>\n",
              "      <td>36.80</td>\n",
              "      <td>0.95</td>\n",
              "      <td>19.00</td>\n",
              "      <td>1.0</td>\n",
              "      <td>19.0</td>\n",
              "      <td>20.0</td>\n",
              "    </tr>\n",
              "    <tr>\n",
              "      <th>1</th>\n",
              "      <td>75.49</td>\n",
              "      <td>75.27</td>\n",
              "      <td>75.14</td>\n",
              "      <td>75.14</td>\n",
              "      <td>75.04</td>\n",
              "      <td>0.95</td>\n",
              "      <td>19.00</td>\n",
              "      <td>1.0</td>\n",
              "      <td>19.0</td>\n",
              "      <td>20.0</td>\n",
              "    </tr>\n",
              "    <tr>\n",
              "      <th>2</th>\n",
              "      <td>106.96</td>\n",
              "      <td>105.04</td>\n",
              "      <td>101.46</td>\n",
              "      <td>100.54</td>\n",
              "      <td>100.08</td>\n",
              "      <td>0.95</td>\n",
              "      <td>19.00</td>\n",
              "      <td>1.0</td>\n",
              "      <td>19.0</td>\n",
              "      <td>20.0</td>\n",
              "    </tr>\n",
              "    <tr>\n",
              "      <th>3</th>\n",
              "      <td>60.78</td>\n",
              "      <td>59.89</td>\n",
              "      <td>59.71</td>\n",
              "      <td>59.21</td>\n",
              "      <td>58.97</td>\n",
              "      <td>0.95</td>\n",
              "      <td>19.00</td>\n",
              "      <td>1.0</td>\n",
              "      <td>19.0</td>\n",
              "      <td>20.0</td>\n",
              "    </tr>\n",
              "    <tr>\n",
              "      <th>4</th>\n",
              "      <td>74.66</td>\n",
              "      <td>74.63</td>\n",
              "      <td>74.59</td>\n",
              "      <td>74.55</td>\n",
              "      <td>74.55</td>\n",
              "      <td>0.95</td>\n",
              "      <td>19.00</td>\n",
              "      <td>1.0</td>\n",
              "      <td>19.0</td>\n",
              "      <td>20.0</td>\n",
              "    </tr>\n",
              "    <tr>\n",
              "      <th>...</th>\n",
              "      <td>...</td>\n",
              "      <td>...</td>\n",
              "      <td>...</td>\n",
              "      <td>...</td>\n",
              "      <td>...</td>\n",
              "      <td>...</td>\n",
              "      <td>...</td>\n",
              "      <td>...</td>\n",
              "      <td>...</td>\n",
              "      <td>...</td>\n",
              "    </tr>\n",
              "    <tr>\n",
              "      <th>655</th>\n",
              "      <td>59.61</td>\n",
              "      <td>58.41</td>\n",
              "      <td>57.14</td>\n",
              "      <td>56.17</td>\n",
              "      <td>54.35</td>\n",
              "      <td>0.95</td>\n",
              "      <td>12.00</td>\n",
              "      <td>1.0</td>\n",
              "      <td>12.0</td>\n",
              "      <td>70.0</td>\n",
              "    </tr>\n",
              "    <tr>\n",
              "      <th>656</th>\n",
              "      <td>64.68</td>\n",
              "      <td>64.62</td>\n",
              "      <td>64.60</td>\n",
              "      <td>64.60</td>\n",
              "      <td>64.57</td>\n",
              "      <td>0.95</td>\n",
              "      <td>12.00</td>\n",
              "      <td>1.0</td>\n",
              "      <td>12.0</td>\n",
              "      <td>70.0</td>\n",
              "    </tr>\n",
              "    <tr>\n",
              "      <th>657</th>\n",
              "      <td>62.09</td>\n",
              "      <td>60.89</td>\n",
              "      <td>60.51</td>\n",
              "      <td>60.20</td>\n",
              "      <td>59.97</td>\n",
              "      <td>0.95</td>\n",
              "      <td>12.00</td>\n",
              "      <td>1.0</td>\n",
              "      <td>12.0</td>\n",
              "      <td>70.0</td>\n",
              "    </tr>\n",
              "    <tr>\n",
              "      <th>658</th>\n",
              "      <td>75.38</td>\n",
              "      <td>75.31</td>\n",
              "      <td>75.14</td>\n",
              "      <td>75.11</td>\n",
              "      <td>75.09</td>\n",
              "      <td>0.95</td>\n",
              "      <td>12.00</td>\n",
              "      <td>1.0</td>\n",
              "      <td>12.0</td>\n",
              "      <td>70.0</td>\n",
              "    </tr>\n",
              "    <tr>\n",
              "      <th>659</th>\n",
              "      <td>54.98</td>\n",
              "      <td>54.86</td>\n",
              "      <td>54.35</td>\n",
              "      <td>53.96</td>\n",
              "      <td>53.20</td>\n",
              "      <td>0.95</td>\n",
              "      <td>21.85</td>\n",
              "      <td>1.0</td>\n",
              "      <td>12.0</td>\n",
              "      <td>70.0</td>\n",
              "    </tr>\n",
              "  </tbody>\n",
              "</table>\n",
              "<p>660 rows × 10 columns</p>\n",
              "</div>\n",
              "      <button class=\"colab-df-convert\" onclick=\"convertToInteractive('df-2264e01d-ddbe-46aa-9d06-ca8a1d533a13')\"\n",
              "              title=\"Convert this dataframe to an interactive table.\"\n",
              "              style=\"display:none;\">\n",
              "        \n",
              "  <svg xmlns=\"http://www.w3.org/2000/svg\" height=\"24px\"viewBox=\"0 0 24 24\"\n",
              "       width=\"24px\">\n",
              "    <path d=\"M0 0h24v24H0V0z\" fill=\"none\"/>\n",
              "    <path d=\"M18.56 5.44l.94 2.06.94-2.06 2.06-.94-2.06-.94-.94-2.06-.94 2.06-2.06.94zm-11 1L8.5 8.5l.94-2.06 2.06-.94-2.06-.94L8.5 2.5l-.94 2.06-2.06.94zm10 10l.94 2.06.94-2.06 2.06-.94-2.06-.94-.94-2.06-.94 2.06-2.06.94z\"/><path d=\"M17.41 7.96l-1.37-1.37c-.4-.4-.92-.59-1.43-.59-.52 0-1.04.2-1.43.59L10.3 9.45l-7.72 7.72c-.78.78-.78 2.05 0 2.83L4 21.41c.39.39.9.59 1.41.59.51 0 1.02-.2 1.41-.59l7.78-7.78 2.81-2.81c.8-.78.8-2.07 0-2.86zM5.41 20L4 18.59l7.72-7.72 1.47 1.35L5.41 20z\"/>\n",
              "  </svg>\n",
              "      </button>\n",
              "      \n",
              "  <style>\n",
              "    .colab-df-container {\n",
              "      display:flex;\n",
              "      flex-wrap:wrap;\n",
              "      gap: 12px;\n",
              "    }\n",
              "\n",
              "    .colab-df-convert {\n",
              "      background-color: #E8F0FE;\n",
              "      border: none;\n",
              "      border-radius: 50%;\n",
              "      cursor: pointer;\n",
              "      display: none;\n",
              "      fill: #1967D2;\n",
              "      height: 32px;\n",
              "      padding: 0 0 0 0;\n",
              "      width: 32px;\n",
              "    }\n",
              "\n",
              "    .colab-df-convert:hover {\n",
              "      background-color: #E2EBFA;\n",
              "      box-shadow: 0px 1px 2px rgba(60, 64, 67, 0.3), 0px 1px 3px 1px rgba(60, 64, 67, 0.15);\n",
              "      fill: #174EA6;\n",
              "    }\n",
              "\n",
              "    [theme=dark] .colab-df-convert {\n",
              "      background-color: #3B4455;\n",
              "      fill: #D2E3FC;\n",
              "    }\n",
              "\n",
              "    [theme=dark] .colab-df-convert:hover {\n",
              "      background-color: #434B5C;\n",
              "      box-shadow: 0px 1px 3px 1px rgba(0, 0, 0, 0.15);\n",
              "      filter: drop-shadow(0px 1px 2px rgba(0, 0, 0, 0.3));\n",
              "      fill: #FFFFFF;\n",
              "    }\n",
              "  </style>\n",
              "\n",
              "      <script>\n",
              "        const buttonEl =\n",
              "          document.querySelector('#df-2264e01d-ddbe-46aa-9d06-ca8a1d533a13 button.colab-df-convert');\n",
              "        buttonEl.style.display =\n",
              "          google.colab.kernel.accessAllowed ? 'block' : 'none';\n",
              "\n",
              "        async function convertToInteractive(key) {\n",
              "          const element = document.querySelector('#df-2264e01d-ddbe-46aa-9d06-ca8a1d533a13');\n",
              "          const dataTable =\n",
              "            await google.colab.kernel.invokeFunction('convertToInteractive',\n",
              "                                                     [key], {});\n",
              "          if (!dataTable) return;\n",
              "\n",
              "          const docLinkHtml = 'Like what you see? Visit the ' +\n",
              "            '<a target=\"_blank\" href=https://colab.research.google.com/notebooks/data_table.ipynb>data table notebook</a>'\n",
              "            + ' to learn more about interactive tables.';\n",
              "          element.innerHTML = '';\n",
              "          dataTable['output_type'] = 'display_data';\n",
              "          await google.colab.output.renderOutput(dataTable, element);\n",
              "          const docLink = document.createElement('div');\n",
              "          docLink.innerHTML = docLinkHtml;\n",
              "          element.appendChild(docLink);\n",
              "        }\n",
              "      </script>\n",
              "    </div>\n",
              "  </div>\n",
              "  "
            ]
          },
          "metadata": {},
          "execution_count": 29
        }
      ]
    },
    {
      "cell_type": "code",
      "source": [
        "tmp = []\n",
        "for _ in range(len(half_n)):\n",
        "  tmp.append(1)\n",
        "for _ in range(len(ab)):\n",
        "  tmp.append(0)\n",
        "\n",
        "dataset_train['target'] = tmp"
      ],
      "metadata": {
        "id": "fU_4gkFKk3VZ"
      },
      "execution_count": null,
      "outputs": []
    },
    {
      "cell_type": "code",
      "source": [
        "dataset_train"
      ],
      "metadata": {
        "colab": {
          "base_uri": "https://localhost:8080/",
          "height": 483
        },
        "id": "t_gQlulStUv0",
        "outputId": "28b52cd6-1bf4-4ec6-dae6-ce1633dc7d1e"
      },
      "execution_count": null,
      "outputs": [
        {
          "output_type": "execute_result",
          "data": {
            "text/plain": [
              "          1       2       3       4       5  Emissivity  ReflectedTemperature  \\\n",
              "0     37.73   37.38   37.27   37.05   36.80        0.95                 19.00   \n",
              "1     75.49   75.27   75.14   75.14   75.04        0.95                 19.00   \n",
              "2    106.96  105.04  101.46  100.54  100.08        0.95                 19.00   \n",
              "3     60.78   59.89   59.71   59.21   58.97        0.95                 19.00   \n",
              "4     74.66   74.63   74.59   74.55   74.55        0.95                 19.00   \n",
              "..      ...     ...     ...     ...     ...         ...                   ...   \n",
              "655   59.61   58.41   57.14   56.17   54.35        0.95                 12.00   \n",
              "656   64.68   64.62   64.60   64.60   64.57        0.95                 12.00   \n",
              "657   62.09   60.89   60.51   60.20   59.97        0.95                 12.00   \n",
              "658   75.38   75.31   75.14   75.11   75.09        0.95                 12.00   \n",
              "659   54.98   54.86   54.35   53.96   53.20        0.95                 21.85   \n",
              "\n",
              "     Distance  Atmospherictemperature  RelativeHumidity  target  \n",
              "0         1.0                    19.0              20.0       1  \n",
              "1         1.0                    19.0              20.0       1  \n",
              "2         1.0                    19.0              20.0       1  \n",
              "3         1.0                    19.0              20.0       1  \n",
              "4         1.0                    19.0              20.0       1  \n",
              "..        ...                     ...               ...     ...  \n",
              "655       1.0                    12.0              70.0       0  \n",
              "656       1.0                    12.0              70.0       0  \n",
              "657       1.0                    12.0              70.0       0  \n",
              "658       1.0                    12.0              70.0       0  \n",
              "659       1.0                    12.0              70.0       0  \n",
              "\n",
              "[660 rows x 11 columns]"
            ],
            "text/html": [
              "\n",
              "  <div id=\"df-646c09c3-2ca5-4529-9e2a-5350505435a9\">\n",
              "    <div class=\"colab-df-container\">\n",
              "      <div>\n",
              "<style scoped>\n",
              "    .dataframe tbody tr th:only-of-type {\n",
              "        vertical-align: middle;\n",
              "    }\n",
              "\n",
              "    .dataframe tbody tr th {\n",
              "        vertical-align: top;\n",
              "    }\n",
              "\n",
              "    .dataframe thead th {\n",
              "        text-align: right;\n",
              "    }\n",
              "</style>\n",
              "<table border=\"1\" class=\"dataframe\">\n",
              "  <thead>\n",
              "    <tr style=\"text-align: right;\">\n",
              "      <th></th>\n",
              "      <th>1</th>\n",
              "      <th>2</th>\n",
              "      <th>3</th>\n",
              "      <th>4</th>\n",
              "      <th>5</th>\n",
              "      <th>Emissivity</th>\n",
              "      <th>ReflectedTemperature</th>\n",
              "      <th>Distance</th>\n",
              "      <th>Atmospherictemperature</th>\n",
              "      <th>RelativeHumidity</th>\n",
              "      <th>target</th>\n",
              "    </tr>\n",
              "  </thead>\n",
              "  <tbody>\n",
              "    <tr>\n",
              "      <th>0</th>\n",
              "      <td>37.73</td>\n",
              "      <td>37.38</td>\n",
              "      <td>37.27</td>\n",
              "      <td>37.05</td>\n",
              "      <td>36.80</td>\n",
              "      <td>0.95</td>\n",
              "      <td>19.00</td>\n",
              "      <td>1.0</td>\n",
              "      <td>19.0</td>\n",
              "      <td>20.0</td>\n",
              "      <td>1</td>\n",
              "    </tr>\n",
              "    <tr>\n",
              "      <th>1</th>\n",
              "      <td>75.49</td>\n",
              "      <td>75.27</td>\n",
              "      <td>75.14</td>\n",
              "      <td>75.14</td>\n",
              "      <td>75.04</td>\n",
              "      <td>0.95</td>\n",
              "      <td>19.00</td>\n",
              "      <td>1.0</td>\n",
              "      <td>19.0</td>\n",
              "      <td>20.0</td>\n",
              "      <td>1</td>\n",
              "    </tr>\n",
              "    <tr>\n",
              "      <th>2</th>\n",
              "      <td>106.96</td>\n",
              "      <td>105.04</td>\n",
              "      <td>101.46</td>\n",
              "      <td>100.54</td>\n",
              "      <td>100.08</td>\n",
              "      <td>0.95</td>\n",
              "      <td>19.00</td>\n",
              "      <td>1.0</td>\n",
              "      <td>19.0</td>\n",
              "      <td>20.0</td>\n",
              "      <td>1</td>\n",
              "    </tr>\n",
              "    <tr>\n",
              "      <th>3</th>\n",
              "      <td>60.78</td>\n",
              "      <td>59.89</td>\n",
              "      <td>59.71</td>\n",
              "      <td>59.21</td>\n",
              "      <td>58.97</td>\n",
              "      <td>0.95</td>\n",
              "      <td>19.00</td>\n",
              "      <td>1.0</td>\n",
              "      <td>19.0</td>\n",
              "      <td>20.0</td>\n",
              "      <td>1</td>\n",
              "    </tr>\n",
              "    <tr>\n",
              "      <th>4</th>\n",
              "      <td>74.66</td>\n",
              "      <td>74.63</td>\n",
              "      <td>74.59</td>\n",
              "      <td>74.55</td>\n",
              "      <td>74.55</td>\n",
              "      <td>0.95</td>\n",
              "      <td>19.00</td>\n",
              "      <td>1.0</td>\n",
              "      <td>19.0</td>\n",
              "      <td>20.0</td>\n",
              "      <td>1</td>\n",
              "    </tr>\n",
              "    <tr>\n",
              "      <th>...</th>\n",
              "      <td>...</td>\n",
              "      <td>...</td>\n",
              "      <td>...</td>\n",
              "      <td>...</td>\n",
              "      <td>...</td>\n",
              "      <td>...</td>\n",
              "      <td>...</td>\n",
              "      <td>...</td>\n",
              "      <td>...</td>\n",
              "      <td>...</td>\n",
              "      <td>...</td>\n",
              "    </tr>\n",
              "    <tr>\n",
              "      <th>655</th>\n",
              "      <td>59.61</td>\n",
              "      <td>58.41</td>\n",
              "      <td>57.14</td>\n",
              "      <td>56.17</td>\n",
              "      <td>54.35</td>\n",
              "      <td>0.95</td>\n",
              "      <td>12.00</td>\n",
              "      <td>1.0</td>\n",
              "      <td>12.0</td>\n",
              "      <td>70.0</td>\n",
              "      <td>0</td>\n",
              "    </tr>\n",
              "    <tr>\n",
              "      <th>656</th>\n",
              "      <td>64.68</td>\n",
              "      <td>64.62</td>\n",
              "      <td>64.60</td>\n",
              "      <td>64.60</td>\n",
              "      <td>64.57</td>\n",
              "      <td>0.95</td>\n",
              "      <td>12.00</td>\n",
              "      <td>1.0</td>\n",
              "      <td>12.0</td>\n",
              "      <td>70.0</td>\n",
              "      <td>0</td>\n",
              "    </tr>\n",
              "    <tr>\n",
              "      <th>657</th>\n",
              "      <td>62.09</td>\n",
              "      <td>60.89</td>\n",
              "      <td>60.51</td>\n",
              "      <td>60.20</td>\n",
              "      <td>59.97</td>\n",
              "      <td>0.95</td>\n",
              "      <td>12.00</td>\n",
              "      <td>1.0</td>\n",
              "      <td>12.0</td>\n",
              "      <td>70.0</td>\n",
              "      <td>0</td>\n",
              "    </tr>\n",
              "    <tr>\n",
              "      <th>658</th>\n",
              "      <td>75.38</td>\n",
              "      <td>75.31</td>\n",
              "      <td>75.14</td>\n",
              "      <td>75.11</td>\n",
              "      <td>75.09</td>\n",
              "      <td>0.95</td>\n",
              "      <td>12.00</td>\n",
              "      <td>1.0</td>\n",
              "      <td>12.0</td>\n",
              "      <td>70.0</td>\n",
              "      <td>0</td>\n",
              "    </tr>\n",
              "    <tr>\n",
              "      <th>659</th>\n",
              "      <td>54.98</td>\n",
              "      <td>54.86</td>\n",
              "      <td>54.35</td>\n",
              "      <td>53.96</td>\n",
              "      <td>53.20</td>\n",
              "      <td>0.95</td>\n",
              "      <td>21.85</td>\n",
              "      <td>1.0</td>\n",
              "      <td>12.0</td>\n",
              "      <td>70.0</td>\n",
              "      <td>0</td>\n",
              "    </tr>\n",
              "  </tbody>\n",
              "</table>\n",
              "<p>660 rows × 11 columns</p>\n",
              "</div>\n",
              "      <button class=\"colab-df-convert\" onclick=\"convertToInteractive('df-646c09c3-2ca5-4529-9e2a-5350505435a9')\"\n",
              "              title=\"Convert this dataframe to an interactive table.\"\n",
              "              style=\"display:none;\">\n",
              "        \n",
              "  <svg xmlns=\"http://www.w3.org/2000/svg\" height=\"24px\"viewBox=\"0 0 24 24\"\n",
              "       width=\"24px\">\n",
              "    <path d=\"M0 0h24v24H0V0z\" fill=\"none\"/>\n",
              "    <path d=\"M18.56 5.44l.94 2.06.94-2.06 2.06-.94-2.06-.94-.94-2.06-.94 2.06-2.06.94zm-11 1L8.5 8.5l.94-2.06 2.06-.94-2.06-.94L8.5 2.5l-.94 2.06-2.06.94zm10 10l.94 2.06.94-2.06 2.06-.94-2.06-.94-.94-2.06-.94 2.06-2.06.94z\"/><path d=\"M17.41 7.96l-1.37-1.37c-.4-.4-.92-.59-1.43-.59-.52 0-1.04.2-1.43.59L10.3 9.45l-7.72 7.72c-.78.78-.78 2.05 0 2.83L4 21.41c.39.39.9.59 1.41.59.51 0 1.02-.2 1.41-.59l7.78-7.78 2.81-2.81c.8-.78.8-2.07 0-2.86zM5.41 20L4 18.59l7.72-7.72 1.47 1.35L5.41 20z\"/>\n",
              "  </svg>\n",
              "      </button>\n",
              "      \n",
              "  <style>\n",
              "    .colab-df-container {\n",
              "      display:flex;\n",
              "      flex-wrap:wrap;\n",
              "      gap: 12px;\n",
              "    }\n",
              "\n",
              "    .colab-df-convert {\n",
              "      background-color: #E8F0FE;\n",
              "      border: none;\n",
              "      border-radius: 50%;\n",
              "      cursor: pointer;\n",
              "      display: none;\n",
              "      fill: #1967D2;\n",
              "      height: 32px;\n",
              "      padding: 0 0 0 0;\n",
              "      width: 32px;\n",
              "    }\n",
              "\n",
              "    .colab-df-convert:hover {\n",
              "      background-color: #E2EBFA;\n",
              "      box-shadow: 0px 1px 2px rgba(60, 64, 67, 0.3), 0px 1px 3px 1px rgba(60, 64, 67, 0.15);\n",
              "      fill: #174EA6;\n",
              "    }\n",
              "\n",
              "    [theme=dark] .colab-df-convert {\n",
              "      background-color: #3B4455;\n",
              "      fill: #D2E3FC;\n",
              "    }\n",
              "\n",
              "    [theme=dark] .colab-df-convert:hover {\n",
              "      background-color: #434B5C;\n",
              "      box-shadow: 0px 1px 3px 1px rgba(0, 0, 0, 0.15);\n",
              "      filter: drop-shadow(0px 1px 2px rgba(0, 0, 0, 0.3));\n",
              "      fill: #FFFFFF;\n",
              "    }\n",
              "  </style>\n",
              "\n",
              "      <script>\n",
              "        const buttonEl =\n",
              "          document.querySelector('#df-646c09c3-2ca5-4529-9e2a-5350505435a9 button.colab-df-convert');\n",
              "        buttonEl.style.display =\n",
              "          google.colab.kernel.accessAllowed ? 'block' : 'none';\n",
              "\n",
              "        async function convertToInteractive(key) {\n",
              "          const element = document.querySelector('#df-646c09c3-2ca5-4529-9e2a-5350505435a9');\n",
              "          const dataTable =\n",
              "            await google.colab.kernel.invokeFunction('convertToInteractive',\n",
              "                                                     [key], {});\n",
              "          if (!dataTable) return;\n",
              "\n",
              "          const docLinkHtml = 'Like what you see? Visit the ' +\n",
              "            '<a target=\"_blank\" href=https://colab.research.google.com/notebooks/data_table.ipynb>data table notebook</a>'\n",
              "            + ' to learn more about interactive tables.';\n",
              "          element.innerHTML = '';\n",
              "          dataTable['output_type'] = 'display_data';\n",
              "          await google.colab.output.renderOutput(dataTable, element);\n",
              "          const docLink = document.createElement('div');\n",
              "          docLink.innerHTML = docLinkHtml;\n",
              "          element.appendChild(docLink);\n",
              "        }\n",
              "      </script>\n",
              "    </div>\n",
              "  </div>\n",
              "  "
            ]
          },
          "metadata": {},
          "execution_count": 31
        }
      ]
    },
    {
      "cell_type": "code",
      "source": [
        "## 'list_label' :  json 파일 경로 리스트\n",
        "path_label = '/content/drive/MyDrive/canAiry/data/02_2nd-dataset/03-2_TR-gearbox/01_label/test'\n",
        "list_label = glob.glob(path_label + '/*.json')\n",
        "\n",
        "n = []\n",
        "ab = []\n",
        "\n",
        "for path_label in list_label:\n",
        "  with open(path_label) as r:\n",
        "    dict_label = json.load(r)\n",
        "    tmp = path_label.split('/')\n",
        "    tmp[-3] = '00_csv'\n",
        "    tmp2 = tmp[-1].split('.')\n",
        "    tmp2[-1] = 'csv'\n",
        "    tmp[-1] = '.'.join(tmp2)\n",
        "    path_csv ='/'.join(tmp)\n",
        "\n",
        "    try: \n",
        "      df = pd.read_csv(path_csv)\n",
        "      env = []\n",
        "      env.append(float(df.columns[0].split(';')[-1]))\n",
        "      for i in range(4):\n",
        "        env.append(float(df.loc[i][0].split(';')[-1]))\n",
        "      \n",
        "      df_temp = pd.read_csv(path_csv)[4:].reset_index(drop=True)\n",
        "      image = np.zeros((512, 640))\n",
        "      for idx, row in df_temp.iterrows():\n",
        "        image[idx, :] = np.array([float(x) for x in row[0].split(';')[:-1]])\n",
        "\n",
        "      for obj in dict_label[\"annotations\"]:\n",
        "        bbox = list(obj[\"data\"].values())\n",
        "        x = bbox[0]\n",
        "        y = bbox[1]\n",
        "        w = bbox[2]\n",
        "        h = bbox[3]\n",
        "        \n",
        "        tmp = []\n",
        "        for i in range(h):\n",
        "            for j in range(w):\n",
        "              if y+i >= 512 or x+j >= 640:\n",
        "                continue\n",
        "              tmp.append(image[y+i][x+j])\n",
        "        tmp.sort(reverse=True)\n",
        "        if obj[\"attributes\"][\"status\"] == \"danger\":\n",
        "          #\n",
        "          tmp = tmp[0:5]\n",
        "          tmp.extend(env)\n",
        "          ab.append(tmp)\n",
        "        else:\n",
        "          tmp = tmp[0:5]\n",
        "          tmp.extend(env)\n",
        "          n.append(tmp)\n",
        "          \n",
        "    except:\n",
        "      print(path_csv, 'is not here!!')"
      ],
      "metadata": {
        "id": "xgHiyLzQoR5k"
      },
      "execution_count": null,
      "outputs": []
    },
    {
      "cell_type": "code",
      "source": [
        "print(len(n))\n",
        "print(len(ab))"
      ],
      "metadata": {
        "colab": {
          "base_uri": "https://localhost:8080/"
        },
        "id": "EXGaRsGv9hBo",
        "outputId": "c1f030b0-b2d1-4d6e-b779-a894219a91df"
      },
      "execution_count": null,
      "outputs": [
        {
          "output_type": "stream",
          "name": "stdout",
          "text": [
            "98\n",
            "40\n"
          ]
        }
      ]
    },
    {
      "cell_type": "code",
      "source": [
        "half_n=n[:40]"
      ],
      "metadata": {
        "id": "nY1E-1LL9kq8"
      },
      "execution_count": null,
      "outputs": []
    },
    {
      "cell_type": "code",
      "source": [
        "df_normal = pd.DataFrame(half_n,columns=['1','2','3','4','5','Emissivity','ReflectedTemperature','Distance','Atmospherictemperature','RelativeHumidity'])\n",
        "df_abnormal = pd.DataFrame(ab,columns=['1','2','3','4','5','Emissivity','ReflectedTemperature','Distance','Atmospherictemperature','RelativeHumidity'])\n",
        "\n",
        "dataset_test = pd.concat([df_normal, df_abnormal], ignore_index=True)\n",
        "\n",
        "tmp = []\n",
        "for _ in range(len(half_n)):\n",
        "  tmp.append(1)\n",
        "for _ in range(len(ab)):\n",
        "  tmp.append(0)\n",
        "\n",
        "dataset_test['target'] = tmp"
      ],
      "metadata": {
        "id": "eMGghAo3oR3N"
      },
      "execution_count": null,
      "outputs": []
    },
    {
      "cell_type": "code",
      "source": [
        "import matplotlib.pyplot as plt\n",
        "from sklearn.datasets import load_breast_cancer\n",
        "\n",
        "dataset_test[['1','2','3','4','5','Emissivity','ReflectedTemperature','Distance','Atmospherictemperature','RelativeHumidity']].head()\n",
        "dataset_test['target'].head()"
      ],
      "metadata": {
        "id": "V2M1nUdfLEb3",
        "colab": {
          "base_uri": "https://localhost:8080/"
        },
        "outputId": "ebf72d9d-4ce4-4b53-948b-4dcb4a03060c"
      },
      "execution_count": null,
      "outputs": [
        {
          "output_type": "execute_result",
          "data": {
            "text/plain": [
              "0    1\n",
              "1    1\n",
              "2    1\n",
              "3    1\n",
              "4    1\n",
              "Name: target, dtype: int64"
            ]
          },
          "metadata": {},
          "execution_count": 36
        }
      ]
    },
    {
      "cell_type": "code",
      "source": [
        "from sklearn.model_selection import train_test_split\n",
        "\n",
        "X_train= dataset_train[['1','2','3','4','5','Emissivity','ReflectedTemperature','Distance','Atmospherictemperature','RelativeHumidity']]\n",
        "X_test= dataset_test[['1','2','3','4','5','Emissivity','ReflectedTemperature','Distance','Atmospherictemperature','RelativeHumidity']]\n",
        "y_train= dataset_train['target']\n",
        "y_test = dataset_test['target']"
      ],
      "metadata": {
        "id": "cSb5ohekpiST"
      },
      "execution_count": null,
      "outputs": []
    },
    {
      "cell_type": "code",
      "source": [
        "len(X_train)"
      ],
      "metadata": {
        "colab": {
          "base_uri": "https://localhost:8080/"
        },
        "id": "BwOvp3IX7cQR",
        "outputId": "3eb230ac-147d-4fc5-8f54-dc877b80e860"
      },
      "execution_count": null,
      "outputs": [
        {
          "output_type": "execute_result",
          "data": {
            "text/plain": [
              "660"
            ]
          },
          "metadata": {},
          "execution_count": 38
        }
      ]
    },
    {
      "cell_type": "code",
      "source": [
        "len(X_test)"
      ],
      "metadata": {
        "colab": {
          "base_uri": "https://localhost:8080/"
        },
        "id": "boLSh3Rq7fqf",
        "outputId": "e2128b16-71a9-4bcf-ad58-8bc69ad60683"
      },
      "execution_count": null,
      "outputs": [
        {
          "output_type": "execute_result",
          "data": {
            "text/plain": [
              "80"
            ]
          },
          "metadata": {},
          "execution_count": 39
        }
      ]
    },
    {
      "cell_type": "code",
      "source": [
        "len(y_train)"
      ],
      "metadata": {
        "colab": {
          "base_uri": "https://localhost:8080/"
        },
        "id": "hy94JjjArDNu",
        "outputId": "78fc0981-0721-4891-bb88-29a2186fbca9"
      },
      "execution_count": null,
      "outputs": [
        {
          "output_type": "execute_result",
          "data": {
            "text/plain": [
              "660"
            ]
          },
          "metadata": {},
          "execution_count": 40
        }
      ]
    },
    {
      "cell_type": "code",
      "source": [
        "len(y_test)"
      ],
      "metadata": {
        "colab": {
          "base_uri": "https://localhost:8080/"
        },
        "id": "4d2lx8_srGJ8",
        "outputId": "af3d44eb-529b-4ec7-d123-d7448d02cb76"
      },
      "execution_count": null,
      "outputs": [
        {
          "output_type": "execute_result",
          "data": {
            "text/plain": [
              "80"
            ]
          },
          "metadata": {},
          "execution_count": 41
        }
      ]
    },
    {
      "cell_type": "code",
      "source": [
        "from sklearn.preprocessing import StandardScaler\n",
        "\n",
        "ss_train = StandardScaler()\n",
        "X_train = ss_train.fit_transform(X_train)\n",
        "ss_test = StandardScaler()\n",
        "X_test = ss_test.fit_transform(X_test)"
      ],
      "metadata": {
        "id": "f4VvUbOXpiEB"
      },
      "execution_count": null,
      "outputs": []
    },
    {
      "cell_type": "code",
      "source": [
        "models = {}\n",
        "\n",
        "# Logistic Regression\n",
        "from sklearn.linear_model import LogisticRegression\n",
        "models['Logistic Regression'] = LogisticRegression()\n",
        "\n",
        "# Support Vector Machines\n",
        "from sklearn.svm import LinearSVC\n",
        "models['Support Vector Machines'] = LinearSVC()\n",
        "\n",
        "# Support Vector Machines\n",
        "from sklearn.svm import SVC\n",
        "models['SVC'] = SVC(C=1.0, \n",
        "                      kernel='rbf',\n",
        "                      degree=3,\n",
        "                      gamma='scale',\n",
        "                      coef0=0.0,\n",
        "                      shrinking=True,\n",
        "                      probability=False,\n",
        "                      tol=0.001,\n",
        "                      cache_size=200,\n",
        "                      class_weight=None,\n",
        "                      verbose=False, \n",
        "                      max_iter=- 1, \n",
        "                      decision_function_shape='ovr', \n",
        "                      break_ties=False, random_state=None)\n",
        "\n",
        "# Decision Trees\n",
        "from sklearn.tree import DecisionTreeClassifier\n",
        "models['Decision Trees'] = DecisionTreeClassifier()\n",
        "\n",
        "# Random Forest\n",
        "from sklearn.ensemble import RandomForestClassifier\n",
        "models['Random Forest'] = RandomForestClassifier()\n",
        "\n",
        "# Naive Bayes\n",
        "from sklearn.naive_bayes import GaussianNB\n",
        "models['Naive Bayes'] = GaussianNB()\n",
        "\n",
        "# K-Nearest Neighbors\n",
        "from sklearn.neighbors import KNeighborsClassifier\n",
        "models['K-Nearest Neighbor'] = KNeighborsClassifier()"
      ],
      "metadata": {
        "id": "HTd4dwP4qAUm"
      },
      "execution_count": null,
      "outputs": []
    },
    {
      "cell_type": "code",
      "source": [
        "from sklearn.metrics import accuracy_score, precision_score, recall_score\n",
        "\n",
        "accuracy, precision, recall = {}, {}, {}\n",
        "\n",
        "for key in models.keys():\n",
        "    \n",
        "    # Fit the classifier\n",
        "    models[key].fit(X_train, y_train)\n",
        "    \n",
        "    # Make predictions\n",
        "    predictions = models[key].predict(X_test)\n",
        "    \n",
        "    # Calculate metrics\n",
        "    accuracy[key] = accuracy_score(predictions, y_test)\n",
        "    precision[key] = precision_score(predictions, y_test)\n",
        "    recall[key] = recall_score(predictions, y_test)"
      ],
      "metadata": {
        "colab": {
          "base_uri": "https://localhost:8080/"
        },
        "id": "REZ__PjyqASI",
        "outputId": "b369fd7f-e1f7-4507-b1e5-8882d9e7fcbc"
      },
      "execution_count": null,
      "outputs": [
        {
          "output_type": "stream",
          "name": "stderr",
          "text": [
            "/usr/local/lib/python3.7/dist-packages/sklearn/svm/_base.py:1208: ConvergenceWarning: Liblinear failed to converge, increase the number of iterations.\n",
            "  ConvergenceWarning,\n"
          ]
        }
      ]
    },
    {
      "cell_type": "code",
      "source": [
        "import pandas as pd\n",
        "\n",
        "df_model = pd.DataFrame(index=models.keys(), columns=['Accuracy', 'Precision', 'Recall'])\n",
        "df_model['Accuracy'] = accuracy.values()\n",
        "df_model['Precision'] = precision.values()\n",
        "df_model['Recall'] = recall.values()\n",
        "\n",
        "df_model"
      ],
      "metadata": {
        "colab": {
          "base_uri": "https://localhost:8080/",
          "height": 266
        },
        "id": "uZbiOELZqAPZ",
        "outputId": "1684bf10-9e20-4f02-8c7b-fc2f0b461a21"
      },
      "execution_count": null,
      "outputs": [
        {
          "output_type": "execute_result",
          "data": {
            "text/plain": [
              "                         Accuracy  Precision    Recall\n",
              "Logistic Regression        0.6125      0.325  0.764706\n",
              "Support Vector Machines    0.6500      0.525  0.700000\n",
              "SVC                        0.5000      1.000  0.500000\n",
              "Decision Trees             0.5250      0.575  0.522727\n",
              "Random Forest              0.5000      0.575  0.500000\n",
              "Naive Bayes                0.5000      1.000  0.500000\n",
              "K-Nearest Neighbor         0.4875      0.600  0.489796"
            ],
            "text/html": [
              "\n",
              "  <div id=\"df-f7515c9d-9a23-4a46-b7be-d66392b654cf\">\n",
              "    <div class=\"colab-df-container\">\n",
              "      <div>\n",
              "<style scoped>\n",
              "    .dataframe tbody tr th:only-of-type {\n",
              "        vertical-align: middle;\n",
              "    }\n",
              "\n",
              "    .dataframe tbody tr th {\n",
              "        vertical-align: top;\n",
              "    }\n",
              "\n",
              "    .dataframe thead th {\n",
              "        text-align: right;\n",
              "    }\n",
              "</style>\n",
              "<table border=\"1\" class=\"dataframe\">\n",
              "  <thead>\n",
              "    <tr style=\"text-align: right;\">\n",
              "      <th></th>\n",
              "      <th>Accuracy</th>\n",
              "      <th>Precision</th>\n",
              "      <th>Recall</th>\n",
              "    </tr>\n",
              "  </thead>\n",
              "  <tbody>\n",
              "    <tr>\n",
              "      <th>Logistic Regression</th>\n",
              "      <td>0.6125</td>\n",
              "      <td>0.325</td>\n",
              "      <td>0.764706</td>\n",
              "    </tr>\n",
              "    <tr>\n",
              "      <th>Support Vector Machines</th>\n",
              "      <td>0.6500</td>\n",
              "      <td>0.525</td>\n",
              "      <td>0.700000</td>\n",
              "    </tr>\n",
              "    <tr>\n",
              "      <th>SVC</th>\n",
              "      <td>0.5000</td>\n",
              "      <td>1.000</td>\n",
              "      <td>0.500000</td>\n",
              "    </tr>\n",
              "    <tr>\n",
              "      <th>Decision Trees</th>\n",
              "      <td>0.5250</td>\n",
              "      <td>0.575</td>\n",
              "      <td>0.522727</td>\n",
              "    </tr>\n",
              "    <tr>\n",
              "      <th>Random Forest</th>\n",
              "      <td>0.5000</td>\n",
              "      <td>0.575</td>\n",
              "      <td>0.500000</td>\n",
              "    </tr>\n",
              "    <tr>\n",
              "      <th>Naive Bayes</th>\n",
              "      <td>0.5000</td>\n",
              "      <td>1.000</td>\n",
              "      <td>0.500000</td>\n",
              "    </tr>\n",
              "    <tr>\n",
              "      <th>K-Nearest Neighbor</th>\n",
              "      <td>0.4875</td>\n",
              "      <td>0.600</td>\n",
              "      <td>0.489796</td>\n",
              "    </tr>\n",
              "  </tbody>\n",
              "</table>\n",
              "</div>\n",
              "      <button class=\"colab-df-convert\" onclick=\"convertToInteractive('df-f7515c9d-9a23-4a46-b7be-d66392b654cf')\"\n",
              "              title=\"Convert this dataframe to an interactive table.\"\n",
              "              style=\"display:none;\">\n",
              "        \n",
              "  <svg xmlns=\"http://www.w3.org/2000/svg\" height=\"24px\"viewBox=\"0 0 24 24\"\n",
              "       width=\"24px\">\n",
              "    <path d=\"M0 0h24v24H0V0z\" fill=\"none\"/>\n",
              "    <path d=\"M18.56 5.44l.94 2.06.94-2.06 2.06-.94-2.06-.94-.94-2.06-.94 2.06-2.06.94zm-11 1L8.5 8.5l.94-2.06 2.06-.94-2.06-.94L8.5 2.5l-.94 2.06-2.06.94zm10 10l.94 2.06.94-2.06 2.06-.94-2.06-.94-.94-2.06-.94 2.06-2.06.94z\"/><path d=\"M17.41 7.96l-1.37-1.37c-.4-.4-.92-.59-1.43-.59-.52 0-1.04.2-1.43.59L10.3 9.45l-7.72 7.72c-.78.78-.78 2.05 0 2.83L4 21.41c.39.39.9.59 1.41.59.51 0 1.02-.2 1.41-.59l7.78-7.78 2.81-2.81c.8-.78.8-2.07 0-2.86zM5.41 20L4 18.59l7.72-7.72 1.47 1.35L5.41 20z\"/>\n",
              "  </svg>\n",
              "      </button>\n",
              "      \n",
              "  <style>\n",
              "    .colab-df-container {\n",
              "      display:flex;\n",
              "      flex-wrap:wrap;\n",
              "      gap: 12px;\n",
              "    }\n",
              "\n",
              "    .colab-df-convert {\n",
              "      background-color: #E8F0FE;\n",
              "      border: none;\n",
              "      border-radius: 50%;\n",
              "      cursor: pointer;\n",
              "      display: none;\n",
              "      fill: #1967D2;\n",
              "      height: 32px;\n",
              "      padding: 0 0 0 0;\n",
              "      width: 32px;\n",
              "    }\n",
              "\n",
              "    .colab-df-convert:hover {\n",
              "      background-color: #E2EBFA;\n",
              "      box-shadow: 0px 1px 2px rgba(60, 64, 67, 0.3), 0px 1px 3px 1px rgba(60, 64, 67, 0.15);\n",
              "      fill: #174EA6;\n",
              "    }\n",
              "\n",
              "    [theme=dark] .colab-df-convert {\n",
              "      background-color: #3B4455;\n",
              "      fill: #D2E3FC;\n",
              "    }\n",
              "\n",
              "    [theme=dark] .colab-df-convert:hover {\n",
              "      background-color: #434B5C;\n",
              "      box-shadow: 0px 1px 3px 1px rgba(0, 0, 0, 0.15);\n",
              "      filter: drop-shadow(0px 1px 2px rgba(0, 0, 0, 0.3));\n",
              "      fill: #FFFFFF;\n",
              "    }\n",
              "  </style>\n",
              "\n",
              "      <script>\n",
              "        const buttonEl =\n",
              "          document.querySelector('#df-f7515c9d-9a23-4a46-b7be-d66392b654cf button.colab-df-convert');\n",
              "        buttonEl.style.display =\n",
              "          google.colab.kernel.accessAllowed ? 'block' : 'none';\n",
              "\n",
              "        async function convertToInteractive(key) {\n",
              "          const element = document.querySelector('#df-f7515c9d-9a23-4a46-b7be-d66392b654cf');\n",
              "          const dataTable =\n",
              "            await google.colab.kernel.invokeFunction('convertToInteractive',\n",
              "                                                     [key], {});\n",
              "          if (!dataTable) return;\n",
              "\n",
              "          const docLinkHtml = 'Like what you see? Visit the ' +\n",
              "            '<a target=\"_blank\" href=https://colab.research.google.com/notebooks/data_table.ipynb>data table notebook</a>'\n",
              "            + ' to learn more about interactive tables.';\n",
              "          element.innerHTML = '';\n",
              "          dataTable['output_type'] = 'display_data';\n",
              "          await google.colab.output.renderOutput(dataTable, element);\n",
              "          const docLink = document.createElement('div');\n",
              "          docLink.innerHTML = docLinkHtml;\n",
              "          element.appendChild(docLink);\n",
              "        }\n",
              "      </script>\n",
              "    </div>\n",
              "  </div>\n",
              "  "
            ]
          },
          "metadata": {},
          "execution_count": 45
        }
      ]
    },
    {
      "cell_type": "code",
      "source": [
        "ax = df_model.plot.barh()\n",
        "ax.legend(\n",
        "    ncol=len(models.keys()), \n",
        "    bbox_to_anchor=(0, 1), \n",
        "    loc='lower left', \n",
        "    prop={'size': 14}\n",
        ")\n",
        "plt.tight_layout()"
      ],
      "metadata": {
        "colab": {
          "base_uri": "https://localhost:8080/",
          "height": 297
        },
        "id": "IUZKhxL1qANL",
        "outputId": "a6f3ec35-1c79-4fd8-baeb-d4e094de13f3"
      },
      "execution_count": null,
      "outputs": [
        {
          "output_type": "display_data",
          "data": {
            "text/plain": [
              "<Figure size 432x288 with 1 Axes>"
            ],
            "image/png": "[encoded data removed]"
          },
          "metadata": {
            "needs_background": "light"
          }
        }
      ]
    },
    {
      "cell_type": "code",
      "source": [
        "# 실제로는 unbalance(ab>n)\n",
        "# recal = sensitivity metric 평가\n",
        "# metric이 어떤의미를 가지는지 이해\n",
        "# baseline \n",
        "# test train val 같이 나누기(사전에 맞추기)"
      ],
      "metadata": {
        "id": "C7rcu0s8innQ"
      },
      "execution_count": null,
      "outputs": []
    },
    {
      "cell_type": "code",
      "source": [
        "len(n)"
      ],
      "metadata": {
        "id": "imHjymzoinav",
        "colab": {
          "base_uri": "https://localhost:8080/"
        },
        "outputId": "98ebfee4-45be-4253-ce76-1faf9f52491a"
      },
      "execution_count": null,
      "outputs": [
        {
          "output_type": "execute_result",
          "data": {
            "text/plain": [
              "98"
            ]
          },
          "metadata": {},
          "execution_count": 70
        }
      ]
    },
    {
      "cell_type": "code",
      "source": [
        "len(ab)"
      ],
      "metadata": {
        "id": "xFffQ5rVrMjJ",
        "outputId": "15bd7fde-2081-45c8-8f8d-949366d13a28",
        "colab": {
          "base_uri": "https://localhost:8080/"
        }
      },
      "execution_count": null,
      "outputs": [
        {
          "output_type": "execute_result",
          "data": {
            "text/plain": [
              "40"
            ]
          },
          "metadata": {},
          "execution_count": 71
        }
      ]
    },
    {
      "cell_type": "code",
      "source": [],
      "metadata": {
        "id": "jPgYRY1KrNrx"
      },
      "execution_count": null,
      "outputs": []
    }
  ]
}